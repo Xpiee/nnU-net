{
 "cells": [
  {
   "cell_type": "code",
   "execution_count": 2,
   "metadata": {},
   "outputs": [],
   "source": [
    "import os\n",
    "import sys\n",
    "import shutil\n",
    "import json\n",
    "import pandas as pd\n",
    "import numpy as np\n",
    "\n",
    "# set environment variable here.\n",
    "os.environ[\"nnUNet_preprocessed\"] = \"/home/bhatti_uhn/nnUNet_preprocessed\"\n",
    "os.environ[\"nnUNet_results\"] = \"/home/bhatti_uhn/nnUNet_results\"\n",
    "os.environ[\"nnUNet_raw\"] = \"/home/bhatti_uhn/nnUNet_raw\"\n",
    "\n",
    "# Ensure that environment variables are set correctly # from run_training.py\n",
    "os.environ[\"OMP_NUM_THREADS\"] = \"1\"\n",
    "os.environ[\"MKL_NUM_THREADS\"] = \"1\"\n",
    "os.environ[\"OPENBLAS_NUM_THREADS\"] = \"1\"\n",
    "\n",
    "from nnunetv2.dataset_conversion import generate_dataset_json\n",
    "from nnunetv2.run.run_training import run_training_entry\n",
    "import logging\n",
    "\n",
    "from sklearn.metrics import classification_report, f1_score, confusion_matrix\n",
    "\n",
    "logging.basicConfig(level=logging.WARNING)"
   ]
  },
  {
   "cell_type": "code",
   "execution_count": 3,
   "metadata": {},
   "outputs": [
    {
     "name": "stdout",
     "output_type": "stream",
     "text": [
      "Processing subtype0...\n",
      "Processing subtype1...\n",
      "Processing subtype2...\n"
     ]
    }
   ],
   "source": [
    "# Define paths\n",
    "base_dir = '/home/bhatti_uhn/Dataset/UHN-MedImg3D-ML-quiz'\n",
    "nnunet_base = '/home/bhatti_uhn/nnUNet_raw/Dataset877_UHNMedImg3DVAL'\n",
    "\n",
    "images_tr_dir = os.path.join(nnunet_base, 'imagesTr')\n",
    "labels_tr_dir = os.path.join(nnunet_base, 'labelsTr')\n",
    "images_ts_dir = os.path.join(nnunet_base, 'imagesTs')\n",
    "\n",
    "# Create directories\n",
    "os.makedirs(images_tr_dir, exist_ok=True)\n",
    "os.makedirs(labels_tr_dir, exist_ok=True)\n",
    "os.makedirs(images_ts_dir, exist_ok=True)\n",
    "    \n",
    "\n",
    "trainSrc = os.path.join(base_dir, 'validation')\n",
    "testSrc = os.path.join(base_dir, 'validation')\n",
    "\n",
    "# list subdirectories of trainSrc # remove .DS_Store\n",
    "train_subdirs = [sdir for sdir in os.listdir(trainSrc) if not sdir.startswith('.')]\n",
    "train_subdirs = sorted(train_subdirs)\n",
    "train_subdirs\n",
    "\n",
    "def copy_files_to_raw(images_tr_dir, labels_tr_dir, trainSrc, train_subdirs):\n",
    "\n",
    "    for i, subdir in enumerate(train_subdirs):\n",
    "        print(f\"Processing {subdir}...\")\n",
    "\n",
    "    # create path for reading subdirectories\n",
    "        train_subdir = os.path.join(trainSrc, subdir)\n",
    "\n",
    "    # list files in subdirectory\n",
    "        files = [s for s in sorted(os.listdir(train_subdir)) if not s.startswith('.')]\n",
    "\n",
    "    # separate images and labels files: image: 'quiz_2_002_0000.nii.gz', and label: 'quiz_2_002.nii.gz'\n",
    "        for j, fileName in enumerate(files):\n",
    "            if len(fileName.split('_')) == 4: # assuming quiz_subType_patID is a valid CASE_ID. and 0000 is the modality.\n",
    "                fileNameSplit = fileName.split('_')\n",
    "                logging.info(f\"Processing {fileNameSplit}\")\n",
    "\n",
    "                newFileName = fileNameSplit[0] + '_' + fileNameSplit[1] + '_' + fileNameSplit[2] + '_' + fileNameSplit[3]\n",
    "                tr_copyPath = os.path.join(train_subdir, fileName)\n",
    "\n",
    "                logging.info(f\"Copying {tr_copyPath} to {images_tr_dir}\")\n",
    "                shutil.copy(tr_copyPath, images_tr_dir)\n",
    "                # rename the file\n",
    "                # os.rename(os.path.join(images_tr_dir, fileName), os.path.join(images_tr_dir, newFileName))\n",
    "\n",
    "            elif len(fileName.split('_')) == 3:\n",
    "                fileNameSplit = fileName.split('_')\n",
    "                newFileName = fileNameSplit[0] + '_' + fileNameSplit[1] + '_' + fileNameSplit[2]\n",
    "\n",
    "                shutil.copy(os.path.join(train_subdir, fileName), labels_tr_dir)\n",
    "                # rename the file\n",
    "                # os.rename(os.path.join(labels_tr_dir, fileName), os.path.join(labels_tr_dir, newFileName))\n",
    "\n",
    "            else: \n",
    "                raise ValueError(f\"File {fileName} does not match the expected format.\")\n",
    "\n",
    "\n",
    "def copy_testFiles_to_raw(images_ts_dir, testSrc):\n",
    "\n",
    "    files = [s for s in sorted(os.listdir(testSrc)) if not s.startswith('.')]\n",
    "\n",
    "    for j, fileName in enumerate(files):\n",
    "        shutil.copy(os.path.join(testSrc, fileName), images_ts_dir)\n",
    "\n",
    "## uncomment to run ###\n",
    "copy_files_to_raw(images_tr_dir, labels_tr_dir, trainSrc, train_subdirs)\n",
    "# copy_testFiles_to_raw(images_ts_dir, testSrc)"
   ]
  },
  {
   "cell_type": "code",
   "execution_count": 4,
   "metadata": {},
   "outputs": [],
   "source": [
    "# Interesting. label integrity check fails. Expected: [np.int64(0), np.int64(1), np.int64(2)] Found: [0.        1.0000153 2.       ]\n",
    "# fixing the label files\n",
    "\n",
    "import SimpleITK as sitk\n",
    "import numpy as np\n",
    "\n",
    "# Function to correct labels\n",
    "def correct_labels(image):\n",
    "    array = sitk.GetArrayFromImage(image)\n",
    "    array = np.where(np.isclose(array, 1.0000153), 1, array)  # Correcting the label value\n",
    "    array = np.int64(array)\n",
    "    corrected_image = sitk.GetImageFromArray(array)\n",
    "    corrected_image.CopyInformation(image)\n",
    "    return corrected_image\n",
    "\n",
    "# Load the problematic image\n",
    "def correct_all_type_labels(labels_tr_dir):\n",
    "    labelImagesInDir = [sdir for sdir in sorted(os.listdir(labels_tr_dir)) if not sdir.startswith('.')]\n",
    "\n",
    "    for labelImgIdx, labelImg in enumerate(labelImagesInDir):\n",
    "        imagePath = os.path.join(labels_tr_dir, labelImg)\n",
    "        image = sitk.ReadImage(imagePath)\n",
    "\n",
    "    # Correct the labels\n",
    "        corrected_image = correct_labels(image)\n",
    "        sitk.WriteImage(corrected_image, imagePath)\n",
    "\n",
    "\n",
    "## uncomment to run ###\n",
    "correct_all_type_labels(labels_tr_dir)\n",
    "\n",
    "# create dataset.json\n",
    "channel_names = {0: \"CT\"}\n",
    "\n",
    "labels = {\n",
    "    'background': 0,\n",
    "    'pancreas': 1,\n",
    "    'lesion': 2\n",
    "}\n",
    "\n",
    "num_training_cases = len(os.listdir(images_tr_dir))\n",
    "file_ending = '.nii.gz'\n",
    "\n",
    "## uncomment to run ###\n",
    "generate_dataset_json.generate_dataset_json(nnunet_base, channel_names, labels, num_training_cases, file_ending)"
   ]
  },
  {
   "cell_type": "code",
   "execution_count": 5,
   "metadata": {},
   "outputs": [
    {
     "name": "stdout",
     "output_type": "stream",
     "text": [
      "Correcting spacing for /home/bhatti_uhn/nnUNet_raw/Dataset877_UHNMedImg3DVAL/labelsTr/quiz_0_168.nii.gz\n",
      "Corrected segmentation saved to /home/bhatti_uhn/nnUNet_raw/Dataset877_UHNMedImg3DVAL/labelsTr/quiz_0_168.nii.gz\n"
     ]
    }
   ],
   "source": [
    "def correct_spacing(image_path, seg_path):\n",
    "    # Load the image and segmentation\n",
    "    image = sitk.ReadImage(image_path)\n",
    "    seg = sitk.ReadImage(seg_path)\n",
    "    \n",
    "    # Get the spacing from the image\n",
    "    image_spacing = image.GetSpacing()\n",
    "    seg_spacing = seg.GetSpacing()\n",
    "    \n",
    "    # Compare and correct spacing if needed\n",
    "    if not np.allclose(image_spacing, seg_spacing, atol=1e-7):\n",
    "        print(f\"Correcting spacing for {seg_path}\")\n",
    "        seg.SetSpacing(image_spacing)\n",
    "        \n",
    "        # Save the corrected segmentation\n",
    "        sitk.WriteImage(seg, seg_path)\n",
    "        print(f\"Corrected segmentation saved to {seg_path}\")\n",
    "\n",
    "# Correct spacing for the segmentation files\n",
    "# list all files under imagesTr\n",
    "\n",
    " ## uncomment to run ###\n",
    "imageFilesInDir = [sdir for sdir in sorted(os.listdir(images_tr_dir)) if not sdir.startswith('.')]\n",
    "\n",
    "for imageIdx, image in enumerate(imageFilesInDir):\n",
    "    imgPath = os.path.join(images_tr_dir, image)\n",
    "    segPath = os.path.join(labels_tr_dir, image.replace('_0000', ''))\n",
    "\n",
    "    correct_spacing(imgPath, segPath)"
   ]
  },
  {
   "cell_type": "code",
   "execution_count": null,
   "metadata": {},
   "outputs": [],
   "source": []
  },
  {
   "cell_type": "code",
   "execution_count": 11,
   "metadata": {},
   "outputs": [],
   "source": [
    "# read the \"/home/bhatti_uhn/nnUNet_results/Dataset876_UHNMedImg3D/nnUnetSegClsTrainer__nnUNetPlans__3d_fullres/fold_all/validation\" directory and classification.npy file.\n",
    "# store in a df and save to csv\n",
    "# df template: Name | Label | SubType (Prediction)\n",
    "\n",
    "# Define the path to the classification file\n",
    "valSrcPath = \"/home/bhatti_uhn/nnUNet_raw/Dataset877_UHNMedImg3DVAL/imagesTr_3d_fullres\"\n",
    "\n",
    "# list classification.npy files\n",
    "classification_files = [sdir for sdir in sorted(os.listdir(valSrcPath)) if sdir.split('_')[-1] == 'classification.npy']\n",
    "\n",
    "valResults = {}\n",
    "df = pd.DataFrame(columns=['Name', 'Label', 'SubType'])\n",
    "\n",
    "for classFile in classification_files:\n",
    "    classFilePath = os.path.join(valSrcPath, classFile)\n",
    "    # print(f\"Processing {classFilePath}\")\n",
    "\n",
    "    # target class\n",
    "    target_class = int(classFile.split('_')[1])\n",
    "\n",
    "    # Load the classification file\n",
    "    classification = np.load(classFilePath)\n",
    "    # keep argmax only\n",
    "    class_pred = np.argmax(classification, axis=-1)\n",
    "\n",
    "    # Create a DataFrame\n",
    "    new_row = pd.DataFrame({'Name': [classFile.replace('_classification.npy', '.nii.gz')], 'Label': [int(target_class)], 'SubType': class_pred})\n",
    "    df = pd.concat([df, new_row], ignore_index=True)\n",
    "\n",
    "    # # Save the DataFrame to a CSV file\n",
    "    # df.to_csv(classFilePath.replace('.npy', '.csv'), index=False)\n",
    "\n",
    "    # print(f\"Saved classification to {classFilePath.replace('.npy', '.csv')}\")"
   ]
  },
  {
   "cell_type": "code",
   "execution_count": 20,
   "metadata": {},
   "outputs": [
    {
     "name": "stdout",
     "output_type": "stream",
     "text": [
      "Accuracy: 0.5833333333333334\n",
      "              precision    recall  f1-score   support\n",
      "\n",
      "           0       0.44      1.00      0.62         4\n",
      "           1       0.67      0.59      0.62        17\n",
      "           2       0.58      0.47      0.52        15\n",
      "\n",
      "    accuracy                           0.58        36\n",
      "   macro avg       0.56      0.68      0.59        36\n",
      "weighted avg       0.61      0.58      0.58        36\n",
      "\n"
     ]
    }
   ],
   "source": [
    "# Ensure labels are of integer type\n",
    "df['Label'] = df['Label'].astype(int)\n",
    "df['SubType'] = df['SubType'].astype(int)\n",
    "\n",
    "# Convert columns to numpy arrays\n",
    "preds = df['SubType'].values\n",
    "targets = df['Label'].values\n",
    "\n",
    "len(preds), len(targets)\n",
    "\n",
    "# Calculate accuracy\n",
    "accuracy = np.mean(preds == targets)\n",
    "print(f\"Accuracy: {accuracy}\")\n",
    "\n",
    "print(classification_report(preds, targets))"
   ]
  },
  {
   "cell_type": "code",
   "execution_count": 10,
   "metadata": {},
   "outputs": [
    {
     "data": {
      "text/html": [
       "<div>\n",
       "<style scoped>\n",
       "    .dataframe tbody tr th:only-of-type {\n",
       "        vertical-align: middle;\n",
       "    }\n",
       "\n",
       "    .dataframe tbody tr th {\n",
       "        vertical-align: top;\n",
       "    }\n",
       "\n",
       "    .dataframe thead th {\n",
       "        text-align: right;\n",
       "    }\n",
       "</style>\n",
       "<table border=\"1\" class=\"dataframe\">\n",
       "  <thead>\n",
       "    <tr style=\"text-align: right;\">\n",
       "      <th></th>\n",
       "      <th>Name</th>\n",
       "      <th>Label</th>\n",
       "      <th>SubType</th>\n",
       "      <th>Correct</th>\n",
       "    </tr>\n",
       "  </thead>\n",
       "  <tbody>\n",
       "    <tr>\n",
       "      <th>0</th>\n",
       "      <td>quiz_0_168.nii.gz</td>\n",
       "      <td>0</td>\n",
       "      <td>1</td>\n",
       "      <td>False</td>\n",
       "    </tr>\n",
       "    <tr>\n",
       "      <th>1</th>\n",
       "      <td>quiz_0_171.nii.gz</td>\n",
       "      <td>0</td>\n",
       "      <td>0</td>\n",
       "      <td>True</td>\n",
       "    </tr>\n",
       "    <tr>\n",
       "      <th>2</th>\n",
       "      <td>quiz_0_174.nii.gz</td>\n",
       "      <td>0</td>\n",
       "      <td>2</td>\n",
       "      <td>False</td>\n",
       "    </tr>\n",
       "    <tr>\n",
       "      <th>3</th>\n",
       "      <td>quiz_0_184.nii.gz</td>\n",
       "      <td>0</td>\n",
       "      <td>2</td>\n",
       "      <td>False</td>\n",
       "    </tr>\n",
       "    <tr>\n",
       "      <th>4</th>\n",
       "      <td>quiz_0_187.nii.gz</td>\n",
       "      <td>0</td>\n",
       "      <td>0</td>\n",
       "      <td>True</td>\n",
       "    </tr>\n",
       "    <tr>\n",
       "      <th>5</th>\n",
       "      <td>quiz_0_189.nii.gz</td>\n",
       "      <td>0</td>\n",
       "      <td>1</td>\n",
       "      <td>False</td>\n",
       "    </tr>\n",
       "    <tr>\n",
       "      <th>6</th>\n",
       "      <td>quiz_0_244.nii.gz</td>\n",
       "      <td>0</td>\n",
       "      <td>2</td>\n",
       "      <td>False</td>\n",
       "    </tr>\n",
       "    <tr>\n",
       "      <th>7</th>\n",
       "      <td>quiz_0_253.nii.gz</td>\n",
       "      <td>0</td>\n",
       "      <td>0</td>\n",
       "      <td>True</td>\n",
       "    </tr>\n",
       "    <tr>\n",
       "      <th>8</th>\n",
       "      <td>quiz_0_254.nii.gz</td>\n",
       "      <td>0</td>\n",
       "      <td>0</td>\n",
       "      <td>True</td>\n",
       "    </tr>\n",
       "    <tr>\n",
       "      <th>9</th>\n",
       "      <td>quiz_1_090.nii.gz</td>\n",
       "      <td>1</td>\n",
       "      <td>1</td>\n",
       "      <td>True</td>\n",
       "    </tr>\n",
       "    <tr>\n",
       "      <th>10</th>\n",
       "      <td>quiz_1_093.nii.gz</td>\n",
       "      <td>1</td>\n",
       "      <td>2</td>\n",
       "      <td>False</td>\n",
       "    </tr>\n",
       "    <tr>\n",
       "      <th>11</th>\n",
       "      <td>quiz_1_094.nii.gz</td>\n",
       "      <td>1</td>\n",
       "      <td>2</td>\n",
       "      <td>False</td>\n",
       "    </tr>\n",
       "    <tr>\n",
       "      <th>12</th>\n",
       "      <td>quiz_1_154.nii.gz</td>\n",
       "      <td>1</td>\n",
       "      <td>1</td>\n",
       "      <td>True</td>\n",
       "    </tr>\n",
       "    <tr>\n",
       "      <th>13</th>\n",
       "      <td>quiz_1_158.nii.gz</td>\n",
       "      <td>1</td>\n",
       "      <td>1</td>\n",
       "      <td>True</td>\n",
       "    </tr>\n",
       "    <tr>\n",
       "      <th>14</th>\n",
       "      <td>quiz_1_164.nii.gz</td>\n",
       "      <td>1</td>\n",
       "      <td>1</td>\n",
       "      <td>True</td>\n",
       "    </tr>\n",
       "    <tr>\n",
       "      <th>15</th>\n",
       "      <td>quiz_1_166.nii.gz</td>\n",
       "      <td>1</td>\n",
       "      <td>1</td>\n",
       "      <td>True</td>\n",
       "    </tr>\n",
       "    <tr>\n",
       "      <th>16</th>\n",
       "      <td>quiz_1_211.nii.gz</td>\n",
       "      <td>1</td>\n",
       "      <td>2</td>\n",
       "      <td>False</td>\n",
       "    </tr>\n",
       "    <tr>\n",
       "      <th>17</th>\n",
       "      <td>quiz_1_213.nii.gz</td>\n",
       "      <td>1</td>\n",
       "      <td>2</td>\n",
       "      <td>False</td>\n",
       "    </tr>\n",
       "    <tr>\n",
       "      <th>18</th>\n",
       "      <td>quiz_1_221.nii.gz</td>\n",
       "      <td>1</td>\n",
       "      <td>1</td>\n",
       "      <td>True</td>\n",
       "    </tr>\n",
       "    <tr>\n",
       "      <th>19</th>\n",
       "      <td>quiz_1_227.nii.gz</td>\n",
       "      <td>1</td>\n",
       "      <td>2</td>\n",
       "      <td>False</td>\n",
       "    </tr>\n",
       "    <tr>\n",
       "      <th>20</th>\n",
       "      <td>quiz_1_231.nii.gz</td>\n",
       "      <td>1</td>\n",
       "      <td>1</td>\n",
       "      <td>True</td>\n",
       "    </tr>\n",
       "    <tr>\n",
       "      <th>21</th>\n",
       "      <td>quiz_1_242.nii.gz</td>\n",
       "      <td>1</td>\n",
       "      <td>1</td>\n",
       "      <td>True</td>\n",
       "    </tr>\n",
       "    <tr>\n",
       "      <th>22</th>\n",
       "      <td>quiz_1_331.nii.gz</td>\n",
       "      <td>1</td>\n",
       "      <td>1</td>\n",
       "      <td>True</td>\n",
       "    </tr>\n",
       "    <tr>\n",
       "      <th>23</th>\n",
       "      <td>quiz_1_335.nii.gz</td>\n",
       "      <td>1</td>\n",
       "      <td>1</td>\n",
       "      <td>True</td>\n",
       "    </tr>\n",
       "    <tr>\n",
       "      <th>24</th>\n",
       "      <td>quiz_2_074.nii.gz</td>\n",
       "      <td>2</td>\n",
       "      <td>1</td>\n",
       "      <td>False</td>\n",
       "    </tr>\n",
       "    <tr>\n",
       "      <th>25</th>\n",
       "      <td>quiz_2_080.nii.gz</td>\n",
       "      <td>2</td>\n",
       "      <td>1</td>\n",
       "      <td>False</td>\n",
       "    </tr>\n",
       "    <tr>\n",
       "      <th>26</th>\n",
       "      <td>quiz_2_084.nii.gz</td>\n",
       "      <td>2</td>\n",
       "      <td>1</td>\n",
       "      <td>False</td>\n",
       "    </tr>\n",
       "    <tr>\n",
       "      <th>27</th>\n",
       "      <td>quiz_2_085.nii.gz</td>\n",
       "      <td>2</td>\n",
       "      <td>1</td>\n",
       "      <td>False</td>\n",
       "    </tr>\n",
       "    <tr>\n",
       "      <th>28</th>\n",
       "      <td>quiz_2_088.nii.gz</td>\n",
       "      <td>2</td>\n",
       "      <td>2</td>\n",
       "      <td>True</td>\n",
       "    </tr>\n",
       "    <tr>\n",
       "      <th>29</th>\n",
       "      <td>quiz_2_089.nii.gz</td>\n",
       "      <td>2</td>\n",
       "      <td>2</td>\n",
       "      <td>True</td>\n",
       "    </tr>\n",
       "    <tr>\n",
       "      <th>30</th>\n",
       "      <td>quiz_2_098.nii.gz</td>\n",
       "      <td>2</td>\n",
       "      <td>2</td>\n",
       "      <td>True</td>\n",
       "    </tr>\n",
       "    <tr>\n",
       "      <th>31</th>\n",
       "      <td>quiz_2_191.nii.gz</td>\n",
       "      <td>2</td>\n",
       "      <td>2</td>\n",
       "      <td>True</td>\n",
       "    </tr>\n",
       "    <tr>\n",
       "      <th>32</th>\n",
       "      <td>quiz_2_241.nii.gz</td>\n",
       "      <td>2</td>\n",
       "      <td>2</td>\n",
       "      <td>True</td>\n",
       "    </tr>\n",
       "    <tr>\n",
       "      <th>33</th>\n",
       "      <td>quiz_2_364.nii.gz</td>\n",
       "      <td>2</td>\n",
       "      <td>1</td>\n",
       "      <td>False</td>\n",
       "    </tr>\n",
       "    <tr>\n",
       "      <th>34</th>\n",
       "      <td>quiz_2_377.nii.gz</td>\n",
       "      <td>2</td>\n",
       "      <td>2</td>\n",
       "      <td>True</td>\n",
       "    </tr>\n",
       "    <tr>\n",
       "      <th>35</th>\n",
       "      <td>quiz_2_379.nii.gz</td>\n",
       "      <td>2</td>\n",
       "      <td>2</td>\n",
       "      <td>True</td>\n",
       "    </tr>\n",
       "  </tbody>\n",
       "</table>\n",
       "</div>"
      ],
      "text/plain": [
       "                 Name Label SubType  Correct\n",
       "0   quiz_0_168.nii.gz     0       1    False\n",
       "1   quiz_0_171.nii.gz     0       0     True\n",
       "2   quiz_0_174.nii.gz     0       2    False\n",
       "3   quiz_0_184.nii.gz     0       2    False\n",
       "4   quiz_0_187.nii.gz     0       0     True\n",
       "5   quiz_0_189.nii.gz     0       1    False\n",
       "6   quiz_0_244.nii.gz     0       2    False\n",
       "7   quiz_0_253.nii.gz     0       0     True\n",
       "8   quiz_0_254.nii.gz     0       0     True\n",
       "9   quiz_1_090.nii.gz     1       1     True\n",
       "10  quiz_1_093.nii.gz     1       2    False\n",
       "11  quiz_1_094.nii.gz     1       2    False\n",
       "12  quiz_1_154.nii.gz     1       1     True\n",
       "13  quiz_1_158.nii.gz     1       1     True\n",
       "14  quiz_1_164.nii.gz     1       1     True\n",
       "15  quiz_1_166.nii.gz     1       1     True\n",
       "16  quiz_1_211.nii.gz     1       2    False\n",
       "17  quiz_1_213.nii.gz     1       2    False\n",
       "18  quiz_1_221.nii.gz     1       1     True\n",
       "19  quiz_1_227.nii.gz     1       2    False\n",
       "20  quiz_1_231.nii.gz     1       1     True\n",
       "21  quiz_1_242.nii.gz     1       1     True\n",
       "22  quiz_1_331.nii.gz     1       1     True\n",
       "23  quiz_1_335.nii.gz     1       1     True\n",
       "24  quiz_2_074.nii.gz     2       1    False\n",
       "25  quiz_2_080.nii.gz     2       1    False\n",
       "26  quiz_2_084.nii.gz     2       1    False\n",
       "27  quiz_2_085.nii.gz     2       1    False\n",
       "28  quiz_2_088.nii.gz     2       2     True\n",
       "29  quiz_2_089.nii.gz     2       2     True\n",
       "30  quiz_2_098.nii.gz     2       2     True\n",
       "31  quiz_2_191.nii.gz     2       2     True\n",
       "32  quiz_2_241.nii.gz     2       2     True\n",
       "33  quiz_2_364.nii.gz     2       1    False\n",
       "34  quiz_2_377.nii.gz     2       2     True\n",
       "35  quiz_2_379.nii.gz     2       2     True"
      ]
     },
     "execution_count": 10,
     "metadata": {},
     "output_type": "execute_result"
    }
   ],
   "source": [
    "df"
   ]
  },
  {
   "cell_type": "code",
   "execution_count": 11,
   "metadata": {},
   "outputs": [
    {
     "data": {
      "text/plain": [
       "array([2])"
      ]
     },
     "execution_count": 11,
     "metadata": {},
     "output_type": "execute_result"
    }
   ],
   "source": [
    "class_pred"
   ]
  },
  {
   "cell_type": "code",
   "execution_count": 12,
   "metadata": {},
   "outputs": [
    {
     "data": {
      "text/plain": [
       "0"
      ]
     },
     "execution_count": 12,
     "metadata": {},
     "output_type": "execute_result"
    }
   ],
   "source": [
    "target_class"
   ]
  },
  {
   "cell_type": "code",
   "execution_count": 7,
   "metadata": {},
   "outputs": [
    {
     "name": "stderr",
     "output_type": "stream",
     "text": [
      "/home/bhatti_uhn/nnU-net/nnunetv2/inference/predict_from_raw_data.py:84: FutureWarning: You are using `torch.load` with `weights_only=False` (the current default value), which uses the default pickle module implicitly. It is possible to construct malicious pickle data which will execute arbitrary code during unpickling (See https://github.com/pytorch/pytorch/blob/main/SECURITY.md#untrusted-models for more details). In a future release, the default value for `weights_only` will be flipped to `True`. This limits the functions that could be executed during unpickling. Arbitrary objects will no longer be allowed to be loaded via this mode unless they are explicitly allowlisted by the user via `torch.serialization.add_safe_globals`. We recommend you start setting `weights_only=True` for any use case where you don't have full control of the loaded file. Please open an issue on GitHub for any issues related to this experimental feature.\n",
      "  checkpoint = torch.load(join(model_training_output_dir, f'fold_{f}', checkpoint_name),\n"
     ]
    },
    {
     "name": "stdout",
     "output_type": "stream",
     "text": [
      "{'n_stages': 6, 'features_per_stage': [32, 64, 128, 256, 320, 320], 'conv_op': 'torch.nn.modules.conv.Conv3d', 'kernel_sizes': [[1, 3, 3], [3, 3, 3], [3, 3, 3], [3, 3, 3], [3, 3, 3], [3, 3, 3]], 'strides': [[1, 1, 1], [1, 2, 2], [2, 2, 2], [2, 2, 2], [2, 2, 2], [2, 2, 2]], 'n_conv_per_stage': [2, 2, 2, 2, 2, 2], 'n_conv_per_stage_decoder': [2, 2, 2, 2, 2], 'conv_bias': True, 'norm_op': 'torch.nn.modules.instancenorm.InstanceNorm3d', 'norm_op_kwargs': {'eps': 1e-05, 'affine': True}, 'dropout_op': None, 'dropout_op_kwargs': None, 'nonlin': 'torch.nn.LeakyReLU', 'nonlin_kwargs': {'inplace': True}}\n",
      "There are 36 cases in the source folder\n",
      "I am process 0 out of 1 (max process ID is 0, we start counting with 0!)\n",
      "There are 36 cases that I would like to predict\n",
      "overwrite was set to False, so I am only working on cases that haven't been predicted yet. That's 36 cases.\n",
      "\n",
      "Predicting quiz_0_168:\n",
      "perform_everything_on_device: True\n"
     ]
    },
    {
     "name": "stderr",
     "output_type": "stream",
     "text": [
      "100%|██████████| 4/4 [00:01<00:00,  3.88it/s]\n"
     ]
    },
    {
     "name": "stdout",
     "output_type": "stream",
     "text": [
      "sending off prediction to background worker for resampling and export\n",
      "done with quiz_0_168\n",
      "\n",
      "Predicting quiz_0_171:\n",
      "perform_everything_on_device: True\n"
     ]
    },
    {
     "name": "stderr",
     "output_type": "stream",
     "text": [
      "100%|██████████| 2/2 [00:00<00:00,  9.97it/s]\n"
     ]
    },
    {
     "name": "stdout",
     "output_type": "stream",
     "text": [
      "sending off prediction to background worker for resampling and export\n",
      "done with quiz_0_171\n",
      "\n",
      "Predicting quiz_0_174:\n",
      "perform_everything_on_device: True\n"
     ]
    },
    {
     "name": "stderr",
     "output_type": "stream",
     "text": [
      "100%|██████████| 3/3 [00:00<00:00,  9.04it/s]\n"
     ]
    },
    {
     "name": "stdout",
     "output_type": "stream",
     "text": [
      "sending off prediction to background worker for resampling and export\n",
      "done with quiz_0_174\n",
      "\n",
      "Predicting quiz_0_184:\n",
      "perform_everything_on_device: True\n"
     ]
    },
    {
     "name": "stderr",
     "output_type": "stream",
     "text": [
      "100%|██████████| 2/2 [00:00<00:00,  9.96it/s]\n"
     ]
    },
    {
     "name": "stdout",
     "output_type": "stream",
     "text": [
      "sending off prediction to background worker for resampling and export\n",
      "done with quiz_0_184\n",
      "\n",
      "Predicting quiz_0_187:\n",
      "perform_everything_on_device: True\n"
     ]
    },
    {
     "name": "stderr",
     "output_type": "stream",
     "text": [
      "100%|██████████| 2/2 [00:00<00:00,  9.73it/s]\n"
     ]
    },
    {
     "name": "stdout",
     "output_type": "stream",
     "text": [
      "sending off prediction to background worker for resampling and export\n",
      "done with quiz_0_187\n",
      "\n",
      "Predicting quiz_0_189:\n",
      "perform_everything_on_device: True\n"
     ]
    },
    {
     "name": "stderr",
     "output_type": "stream",
     "text": [
      "100%|██████████| 1/1 [00:00<00:00, 13.60it/s]\n"
     ]
    },
    {
     "name": "stdout",
     "output_type": "stream",
     "text": [
      "sending off prediction to background worker for resampling and export\n",
      "done with quiz_0_189\n",
      "\n",
      "Predicting quiz_0_244:\n",
      "perform_everything_on_device: True\n"
     ]
    },
    {
     "name": "stderr",
     "output_type": "stream",
     "text": [
      "100%|██████████| 2/2 [00:00<00:00,  8.77it/s]\n"
     ]
    },
    {
     "name": "stdout",
     "output_type": "stream",
     "text": [
      "sending off prediction to background worker for resampling and export\n",
      "done with quiz_0_244\n",
      "\n",
      "Predicting quiz_0_253:\n",
      "perform_everything_on_device: True\n"
     ]
    },
    {
     "name": "stderr",
     "output_type": "stream",
     "text": [
      "100%|██████████| 2/2 [00:00<00:00,  9.97it/s]\n"
     ]
    },
    {
     "name": "stdout",
     "output_type": "stream",
     "text": [
      "sending off prediction to background worker for resampling and export\n",
      "done with quiz_0_253\n",
      "\n",
      "Predicting quiz_0_254:\n",
      "perform_everything_on_device: True\n"
     ]
    },
    {
     "name": "stderr",
     "output_type": "stream",
     "text": [
      "100%|██████████| 2/2 [00:00<00:00,  9.57it/s]\n"
     ]
    },
    {
     "name": "stdout",
     "output_type": "stream",
     "text": [
      "sending off prediction to background worker for resampling and export\n",
      "done with quiz_0_254\n",
      "\n",
      "Predicting quiz_1_090:\n",
      "perform_everything_on_device: True\n"
     ]
    },
    {
     "name": "stderr",
     "output_type": "stream",
     "text": [
      "100%|██████████| 4/4 [00:00<00:00,  8.63it/s]\n"
     ]
    },
    {
     "name": "stdout",
     "output_type": "stream",
     "text": [
      "sending off prediction to background worker for resampling and export\n",
      "done with quiz_1_090\n",
      "\n",
      "Predicting quiz_1_093:\n",
      "perform_everything_on_device: True\n"
     ]
    },
    {
     "name": "stderr",
     "output_type": "stream",
     "text": [
      "100%|██████████| 2/2 [00:00<00:00,  8.03it/s]\n"
     ]
    },
    {
     "name": "stdout",
     "output_type": "stream",
     "text": [
      "sending off prediction to background worker for resampling and export\n",
      "done with quiz_1_093\n",
      "\n",
      "Predicting quiz_1_094:\n",
      "perform_everything_on_device: True\n"
     ]
    },
    {
     "name": "stderr",
     "output_type": "stream",
     "text": [
      "100%|██████████| 1/1 [00:00<00:00, 11.75it/s]"
     ]
    },
    {
     "name": "stdout",
     "output_type": "stream",
     "text": [
      "sending off prediction to background worker for resampling and export\n",
      "done with quiz_1_094\n"
     ]
    },
    {
     "name": "stderr",
     "output_type": "stream",
     "text": [
      "\n"
     ]
    },
    {
     "name": "stdout",
     "output_type": "stream",
     "text": [
      "\n",
      "Predicting quiz_1_154:\n",
      "perform_everything_on_device: True\n"
     ]
    },
    {
     "name": "stderr",
     "output_type": "stream",
     "text": [
      "100%|██████████| 2/2 [00:00<00:00,  9.97it/s]\n"
     ]
    },
    {
     "name": "stdout",
     "output_type": "stream",
     "text": [
      "sending off prediction to background worker for resampling and export\n",
      "done with quiz_1_154\n",
      "\n",
      "Predicting quiz_1_158:\n",
      "perform_everything_on_device: True\n"
     ]
    },
    {
     "name": "stderr",
     "output_type": "stream",
     "text": [
      "100%|██████████| 2/2 [00:00<00:00,  9.96it/s]\n"
     ]
    },
    {
     "name": "stdout",
     "output_type": "stream",
     "text": [
      "sending off prediction to background worker for resampling and export\n",
      "done with quiz_1_158\n",
      "\n",
      "Predicting quiz_1_164:\n",
      "perform_everything_on_device: True\n"
     ]
    },
    {
     "name": "stderr",
     "output_type": "stream",
     "text": [
      "100%|██████████| 2/2 [00:00<00:00,  9.38it/s]\n"
     ]
    },
    {
     "name": "stdout",
     "output_type": "stream",
     "text": [
      "sending off prediction to background worker for resampling and export\n",
      "done with quiz_1_164\n",
      "\n",
      "Predicting quiz_1_166:\n",
      "perform_everything_on_device: True\n"
     ]
    },
    {
     "name": "stderr",
     "output_type": "stream",
     "text": [
      "100%|██████████| 1/1 [00:00<00:00, 13.25it/s]\n"
     ]
    },
    {
     "name": "stdout",
     "output_type": "stream",
     "text": [
      "sending off prediction to background worker for resampling and export\n",
      "done with quiz_1_166\n",
      "\n",
      "Predicting quiz_1_211:\n",
      "perform_everything_on_device: True\n"
     ]
    },
    {
     "name": "stderr",
     "output_type": "stream",
     "text": [
      "100%|██████████| 4/4 [00:00<00:00,  8.63it/s]\n"
     ]
    },
    {
     "name": "stdout",
     "output_type": "stream",
     "text": [
      "sending off prediction to background worker for resampling and export\n",
      "done with quiz_1_211\n",
      "\n",
      "Predicting quiz_1_213:\n",
      "perform_everything_on_device: True\n"
     ]
    },
    {
     "name": "stderr",
     "output_type": "stream",
     "text": [
      "100%|██████████| 1/1 [00:00<00:00, 14.62it/s]\n"
     ]
    },
    {
     "name": "stdout",
     "output_type": "stream",
     "text": [
      "sending off prediction to background worker for resampling and export\n",
      "done with quiz_1_213\n",
      "\n",
      "Predicting quiz_1_221:\n",
      "perform_everything_on_device: True\n"
     ]
    },
    {
     "name": "stderr",
     "output_type": "stream",
     "text": [
      "100%|██████████| 1/1 [00:00<00:00, 14.62it/s]\n"
     ]
    },
    {
     "name": "stdout",
     "output_type": "stream",
     "text": [
      "sending off prediction to background worker for resampling and export\n",
      "done with quiz_1_221\n",
      "\n",
      "Predicting quiz_1_227:\n",
      "perform_everything_on_device: True\n"
     ]
    },
    {
     "name": "stderr",
     "output_type": "stream",
     "text": [
      "100%|██████████| 1/1 [00:00<00:00,  9.39it/s]\n"
     ]
    },
    {
     "name": "stdout",
     "output_type": "stream",
     "text": [
      "sending off prediction to background worker for resampling and export\n",
      "done with quiz_1_227\n",
      "\n",
      "Predicting quiz_1_231:\n",
      "perform_everything_on_device: True\n"
     ]
    },
    {
     "name": "stderr",
     "output_type": "stream",
     "text": [
      "100%|██████████| 2/2 [00:00<00:00,  9.37it/s]\n"
     ]
    },
    {
     "name": "stdout",
     "output_type": "stream",
     "text": [
      "sending off prediction to background worker for resampling and export\n",
      "done with quiz_1_231\n",
      "\n",
      "Predicting quiz_1_242:\n",
      "perform_everything_on_device: True\n"
     ]
    },
    {
     "name": "stderr",
     "output_type": "stream",
     "text": [
      "100%|██████████| 4/4 [00:00<00:00,  8.54it/s]\n"
     ]
    },
    {
     "name": "stdout",
     "output_type": "stream",
     "text": [
      "sending off prediction to background worker for resampling and export\n",
      "done with quiz_1_242\n",
      "\n",
      "Predicting quiz_1_331:\n",
      "perform_everything_on_device: True\n"
     ]
    },
    {
     "name": "stderr",
     "output_type": "stream",
     "text": [
      "100%|██████████| 8/8 [00:00<00:00,  8.09it/s]\n"
     ]
    },
    {
     "name": "stdout",
     "output_type": "stream",
     "text": [
      "sending off prediction to background worker for resampling and export\n",
      "done with quiz_1_331\n",
      "\n",
      "Predicting quiz_1_335:\n",
      "perform_everything_on_device: True\n"
     ]
    },
    {
     "name": "stderr",
     "output_type": "stream",
     "text": [
      "100%|██████████| 1/1 [00:00<00:00, 14.59it/s]\n"
     ]
    },
    {
     "name": "stdout",
     "output_type": "stream",
     "text": [
      "sending off prediction to background worker for resampling and export\n",
      "done with quiz_1_335\n",
      "\n",
      "Predicting quiz_2_074:\n",
      "perform_everything_on_device: True\n"
     ]
    },
    {
     "name": "stderr",
     "output_type": "stream",
     "text": [
      "100%|██████████| 2/2 [00:00<00:00,  9.96it/s]\n"
     ]
    },
    {
     "name": "stdout",
     "output_type": "stream",
     "text": [
      "sending off prediction to background worker for resampling and export\n",
      "done with quiz_2_074\n",
      "\n",
      "Predicting quiz_2_080:\n",
      "perform_everything_on_device: True\n"
     ]
    },
    {
     "name": "stderr",
     "output_type": "stream",
     "text": [
      "100%|██████████| 2/2 [00:00<00:00,  9.54it/s]\n"
     ]
    },
    {
     "name": "stdout",
     "output_type": "stream",
     "text": [
      "sending off prediction to background worker for resampling and export\n",
      "done with quiz_2_080\n",
      "\n",
      "Predicting quiz_2_084:\n",
      "perform_everything_on_device: True\n"
     ]
    },
    {
     "name": "stderr",
     "output_type": "stream",
     "text": [
      "100%|██████████| 2/2 [00:00<00:00,  9.95it/s]\n"
     ]
    },
    {
     "name": "stdout",
     "output_type": "stream",
     "text": [
      "sending off prediction to background worker for resampling and export\n",
      "done with quiz_2_084\n",
      "\n",
      "Predicting quiz_2_085:\n",
      "perform_everything_on_device: True\n"
     ]
    },
    {
     "name": "stderr",
     "output_type": "stream",
     "text": [
      "100%|██████████| 2/2 [00:00<00:00,  9.96it/s]\n"
     ]
    },
    {
     "name": "stdout",
     "output_type": "stream",
     "text": [
      "sending off prediction to background worker for resampling and export\n",
      "done with quiz_2_085\n",
      "\n",
      "Predicting quiz_2_088:\n",
      "perform_everything_on_device: True\n"
     ]
    },
    {
     "name": "stderr",
     "output_type": "stream",
     "text": [
      "100%|██████████| 8/8 [00:00<00:00,  8.10it/s]\n"
     ]
    },
    {
     "name": "stdout",
     "output_type": "stream",
     "text": [
      "sending off prediction to background worker for resampling and export\n",
      "done with quiz_2_088\n",
      "\n",
      "Predicting quiz_2_089:\n",
      "perform_everything_on_device: True\n"
     ]
    },
    {
     "name": "stderr",
     "output_type": "stream",
     "text": [
      "100%|██████████| 1/1 [00:00<00:00, 14.63it/s]\n"
     ]
    },
    {
     "name": "stdout",
     "output_type": "stream",
     "text": [
      "sending off prediction to background worker for resampling and export\n",
      "done with quiz_2_089\n",
      "\n",
      "Predicting quiz_2_098:\n",
      "perform_everything_on_device: True\n"
     ]
    },
    {
     "name": "stderr",
     "output_type": "stream",
     "text": [
      "100%|██████████| 2/2 [00:00<00:00,  9.58it/s]\n"
     ]
    },
    {
     "name": "stdout",
     "output_type": "stream",
     "text": [
      "sending off prediction to background worker for resampling and export\n",
      "done with quiz_2_098\n",
      "\n",
      "Predicting quiz_2_191:\n",
      "perform_everything_on_device: True\n"
     ]
    },
    {
     "name": "stderr",
     "output_type": "stream",
     "text": [
      "100%|██████████| 8/8 [00:00<00:00,  8.09it/s]\n"
     ]
    },
    {
     "name": "stdout",
     "output_type": "stream",
     "text": [
      "sending off prediction to background worker for resampling and export\n",
      "done with quiz_2_191\n",
      "\n",
      "Predicting quiz_2_241:\n",
      "perform_everything_on_device: True\n"
     ]
    },
    {
     "name": "stderr",
     "output_type": "stream",
     "text": [
      "100%|██████████| 4/4 [00:00<00:00,  8.63it/s]\n"
     ]
    },
    {
     "name": "stdout",
     "output_type": "stream",
     "text": [
      "sending off prediction to background worker for resampling and export\n",
      "done with quiz_2_241\n",
      "\n",
      "Predicting quiz_2_364:\n",
      "perform_everything_on_device: True\n"
     ]
    },
    {
     "name": "stderr",
     "output_type": "stream",
     "text": [
      "100%|██████████| 1/1 [00:00<00:00, 14.63it/s]\n"
     ]
    },
    {
     "name": "stdout",
     "output_type": "stream",
     "text": [
      "sending off prediction to background worker for resampling and export\n",
      "done with quiz_2_364\n",
      "\n",
      "Predicting quiz_2_377:\n",
      "perform_everything_on_device: True\n"
     ]
    },
    {
     "name": "stderr",
     "output_type": "stream",
     "text": [
      "100%|██████████| 2/2 [00:00<00:00,  9.95it/s]\n"
     ]
    },
    {
     "name": "stdout",
     "output_type": "stream",
     "text": [
      "sending off prediction to background worker for resampling and export\n",
      "done with quiz_2_377\n",
      "\n",
      "Predicting quiz_2_379:\n",
      "perform_everything_on_device: True\n"
     ]
    },
    {
     "name": "stderr",
     "output_type": "stream",
     "text": [
      "100%|██████████| 2/2 [00:00<00:00,  9.96it/s]\n"
     ]
    },
    {
     "name": "stdout",
     "output_type": "stream",
     "text": [
      "sending off prediction to background worker for resampling and export\n",
      "done with quiz_2_379\n"
     ]
    },
    {
     "data": {
      "text/plain": [
       "[None,\n",
       " None,\n",
       " None,\n",
       " None,\n",
       " None,\n",
       " None,\n",
       " None,\n",
       " None,\n",
       " None,\n",
       " None,\n",
       " None,\n",
       " None,\n",
       " None,\n",
       " None,\n",
       " None,\n",
       " None,\n",
       " None,\n",
       " None,\n",
       " None,\n",
       " None,\n",
       " None,\n",
       " None,\n",
       " None,\n",
       " None,\n",
       " None,\n",
       " None,\n",
       " None,\n",
       " None,\n",
       " None,\n",
       " None,\n",
       " None,\n",
       " None,\n",
       " None,\n",
       " None,\n",
       " None,\n",
       " None]"
      ]
     },
     "execution_count": 7,
     "metadata": {},
     "output_type": "execute_result"
    }
   ],
   "source": [
    "# from nnunetv2.paths import nnUNet_results, nnUNet_raw\n",
    "# import torch\n",
    "# from batchgenerators.utilities.file_and_folder_operations import join\n",
    "# from nnunetv2.inference.predict_from_raw_data_cls import nnUNetSegClsPredictor\n",
    "# from nnunetv2.imageio.simpleitk_reader_writer import SimpleITKIO\n",
    "\n",
    "# # nnUNetv2_predict -d 3 -f 0 -c 3d_lowres -i imagesTs -o imagesTs_predlowres --continue_prediction\n",
    "# # /home/bhatti_uhn/nnUNet_results/Dataset876_UHNMedImg3D/nnUnetSegClsTrainer__nnUNetPlans__3d_fullres\n",
    "# # /home/bhatti_uhn/nnUNet_raw/Dataset876_UHNMedImg3D/imagesTs\n",
    "# # instantiate the nnUNetPredictor\n",
    "# predictor = nnUNetSegClsPredictor(\n",
    "#     tile_step_size=0.5,\n",
    "#     use_gaussian=True,\n",
    "#     use_mirroring=True,\n",
    "#     perform_everything_on_device=True,\n",
    "#     device=torch.device(\"cuda\", 0),\n",
    "#     verbose=False,\n",
    "#     verbose_preprocessing=False,\n",
    "#     allow_tqdm=True,\n",
    "# )\n",
    "# # initializes the network architecture, loads the checkpoint\n",
    "# predictor.initialize_from_trained_model_folder(\n",
    "#     join(\n",
    "#         nnUNet_results,\n",
    "#         \"Dataset876_UHNMedImg3D/nnUnetSegClsTrainer__nnUNetPlans__3d_fullres\",\n",
    "#     ),\n",
    "#     use_folds=\"all\",\n",
    "#     checkpoint_name=\"checkpoint_final.pth\",\n",
    "# )\n",
    "# # variant 1: give input and output folders\n",
    "# predictor.predict_from_files(\n",
    "#     join(nnUNet_raw, \"Dataset877_UHNMedImg3DVAL/imagesTr\"),\n",
    "#     join(nnUNet_raw, \"Dataset877_UHNMedImg3DVAL/imagesTr_3d_fullres\"),\n",
    "#     save_probabilities=False,\n",
    "#     overwrite=False,\n",
    "#     num_processes_preprocessing=2,\n",
    "#     num_processes_segmentation_export=2,\n",
    "#     folder_with_segs_from_prev_stage=None,\n",
    "#     num_parts=1,\n",
    "#     part_id=0,\n",
    "# )"
   ]
  },
  {
   "cell_type": "code",
   "execution_count": null,
   "metadata": {},
   "outputs": [],
   "source": [
    "if __name__ == '__main__':\n",
    "    from nnunetv2.paths import nnUNet_results, nnUNet_raw\n",
    "    import torch\n",
    "    from batchgenerators.utilities.file_and_folder_operations import join\n",
    "    from nnunetv2.inference.predict_from_raw_data import nnUNetPredictor\n",
    "    from nnunetv2.imageio.simpleitk_reader_writer import SimpleITKIO\n",
    "\n",
    "    # nnUNetv2_predict -d 3 -f 0 -c 3d_lowres -i imagesTs -o imagesTs_predlowres --continue_prediction\n",
    "\n",
    "    # instantiate the nnUNetPredictor\n",
    "    predictor = nnUNetPredictor(\n",
    "        tile_step_size=0.5,\n",
    "        use_gaussian=True,\n",
    "        use_mirroring=True,\n",
    "        perform_everything_on_device=True,\n",
    "        device=torch.device('cuda', 0),\n",
    "        verbose=False,\n",
    "        verbose_preprocessing=False,\n",
    "        allow_tqdm=True\n",
    "    )\n",
    "    # initializes the network architecture, loads the checkpoint\n",
    "    predictor.initialize_from_trained_model_folder(\n",
    "        join(nnUNet_results, 'Dataset003_Liver/nnUNetTrainer__nnUNetPlans__3d_lowres'),\n",
    "        use_folds=(0,),\n",
    "        checkpoint_name='checkpoint_final.pth',\n",
    "    )\n",
    "    # variant 1: give input and output folders\n",
    "    predictor.predict_from_files(join(nnUNet_raw, 'Dataset003_Liver/imagesTs'),\n",
    "                                 join(nnUNet_raw, 'Dataset003_Liver/imagesTs_predlowres'),\n",
    "                                 save_probabilities=False, overwrite=False,\n",
    "                                 num_processes_preprocessing=2, num_processes_segmentation_export=2,\n",
    "                                 folder_with_segs_from_prev_stage=None, num_parts=1, part_id=0)"
   ]
  }
 ],
 "metadata": {
  "kernelspec": {
   "display_name": "uhn",
   "language": "python",
   "name": "python3"
  },
  "language_info": {
   "codemirror_mode": {
    "name": "ipython",
    "version": 3
   },
   "file_extension": ".py",
   "mimetype": "text/x-python",
   "name": "python",
   "nbconvert_exporter": "python",
   "pygments_lexer": "ipython3",
   "version": "3.12.3"
  }
 },
 "nbformat": 4,
 "nbformat_minor": 2
}
